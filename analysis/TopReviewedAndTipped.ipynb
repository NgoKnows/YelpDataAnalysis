{
 "cells": [
  {
   "cell_type": "code",
   "execution_count": 18,
   "metadata": {
    "collapsed": false
   },
   "outputs": [],
   "source": [
    "import rethinkdb as r\n",
    "from datetime import datetime\n",
    "import json\n",
    "\n",
    "r.connect(host=\"localhost\", db=\"yelp\", port=28015).repl()\n",
    "####################################\n",
    "# GET TOP REVIEWED BUSINESSES\n",
    "top_reviewed_businesses = r.table(\"businesses\").order_by(\n",
    "    r.desc('review_count')\n",
    ").pluck('name', 'business_id', 'review_count', 'stars').limit(10).run()\n",
    "########################################################\n",
    "\n",
    "####################################\n",
    "# GET TOP REVIEWED TIPS\n",
    "tips = r.table(\"tips\").eq_join('business_id', r.table('businesses')).zip().group('business_id')\\\n",
    "    .count().run()\n",
    "\n",
    "tips = sorted(tips.items(), key=lambda x: x[1], reverse=True)\n",
    "\n",
    "def getBusinesses(a):\n",
    "    business = r.table(\"businesses\").get(a[0]).pluck('name', 'business_id', 'review_count', 'stars').run()\n",
    "    business[\"total_tips\"] = a[1]\n",
    "    return business\n",
    "\n",
    "top_tipped_businesses = list(map(lambda a: getBusinesses(a), tips[0:10]))\n",
    "#############################################\n",
    "\n",
    "####################################\n",
    "# GET SET OF TOP REVIEW BUSINESS NAMES\n",
    "top_reviewed_businesses_set = set()\n",
    "for business in top_reviewed_businesses:\n",
    "    top_reviewed_businesses_set.add(business[\"business_id\"])\n",
    "####################################\n",
    "\n",
    "####################################\n",
    "# GET SET OF TOP TIP BUSINESS NAMES\n",
    "top_tipped_businesses_set = set()\n",
    "for business in top_tipped_businesses:\n",
    "    top_tipped_businesses_set.add(business[\"business_id\"])\n",
    "####################################\n",
    "\n",
    "####################################\n",
    "# CREATE DICT OF TOP REVIEWS AND TIPS\n",
    "review_dict = {}\n",
    "tip_dict = {}\n",
    "\n",
    "reviews = r.table(\"reviews\").run()\n",
    "for review in reviews:\n",
    "    business_id = review[\"business_id\"]\n",
    "    if business_id in top_reviewed_businesses_set:\n",
    "        if business_id in review_dict:\n",
    "            review_dict[business_id].append(review)\n",
    "        else:\n",
    "            review_dict[business_id] = [review]\n",
    "\n",
    "tips = r.table(\"tips\").run()\n",
    "for tip in tips:\n",
    "    business_id = tip[\"business_id\"]\n",
    "    if business_id in top_tipped_businesses_set:\n",
    "        if business_id in tip_dict:\n",
    "            tip_dict[business_id].append(tip)\n",
    "        else:\n",
    "            tip_dict[business_id] = [tip]\n",
    "####################################\n",
    "\n",
    "\n"
   ]
  },
  {
   "cell_type": "code",
   "execution_count": 21,
   "metadata": {
    "collapsed": false
   },
   "outputs": [],
   "source": [
    "top_tipped_places = []\n",
    "top_reviewed_places = []\n",
    "\n",
    "def sortText(x):\n",
    "    return datetime(*map(int, x[\"date\"].split(\"-\")))\n",
    "\n",
    "for business in top_reviewed_businesses:\n",
    "    top_reviewed_places.append({'name': business['name'], 'reviews': sorted(review_dict[business[\"business_id\"]], key=sortText)})\n",
    "\n",
    "for business in top_tipped_businesses:\n",
    "    top_tipped_places.append({'name': business['name'], 'tips': sorted(tip_dict[business[\"business_id\"]], key=sortText)})\n"
   ]
  },
  {
   "cell_type": "code",
   "execution_count": 22,
   "metadata": {
    "collapsed": true
   },
   "outputs": [],
   "source": [
    "reviews = {'places': top_reviewed_places}\n",
    "tips = {'places': top_tipped_places}\n",
    "with open('top_reviewed.json', 'w') as outfile:\n",
    "    json.dump(reviews, outfile)\n",
    "with open('top_tipped.json', 'w') as outfile:\n",
    "    json.dump(tips, outfile)"
   ]
  }
 ],
 "metadata": {
  "kernelspec": {
   "display_name": "Python 3",
   "language": "python",
   "name": "python3"
  },
  "language_info": {
   "codemirror_mode": {
    "name": "ipython",
    "version": 3
   },
   "file_extension": ".py",
   "mimetype": "text/x-python",
   "name": "python",
   "nbconvert_exporter": "python",
   "pygments_lexer": "ipython3",
   "version": "3.4.3"
  }
 },
 "nbformat": 4,
 "nbformat_minor": 0
}
